{
 "cells": [
  {
   "cell_type": "code",
   "execution_count": 1,
   "id": "022beec1-2317-44cb-bc9d-a454d7013cb2",
   "metadata": {},
   "outputs": [],
   "source": [
    "# import relevant packages\n",
    "import numpy as np\n",
    "import pandas as pd\n",
    "import glob\n",
    "import matplotlib.pyplot as plt\n",
    "import cv2\n",
    "import napari\n",
    "import argparse\n",
    "import imageio\n",
    "import imutils\n",
    "from imutils import paths\n",
    "import skimage\n",
    "from IPython.display import Image\n",
    "from PIL import Image, ImageFilter\n",
    "from skimage.io import imread\n",
    "from skimage.filters import unsharp_mask\n",
    "from io import BytesIO"
   ]
  },
  {
   "cell_type": "code",
   "execution_count": 7,
   "id": "081f77da-5b0d-41ef-b301-73be68f7c869",
   "metadata": {},
   "outputs": [
    {
     "ename": "error",
     "evalue": "OpenCV(4.5.5) :-1: error: (-5:Bad argument) in function 'cvtColor'\n> Overload resolution failed:\n>  - src is not a numpy array, neither a scalar\n>  - Expected Ptr<cv::UMat> for argument 'src'\n",
     "output_type": "error",
     "traceback": [
      "\u001b[1;31m---------------------------------------------------------------------------\u001b[0m",
      "\u001b[1;31merror\u001b[0m                                     Traceback (most recent call last)",
      "Input \u001b[1;32mIn [7]\u001b[0m, in \u001b[0;36m<cell line: 2>\u001b[1;34m()\u001b[0m\n\u001b[0;32m      1\u001b[0m \u001b[38;5;66;03m# skeletonize the image\u001b[39;00m\n\u001b[1;32m----> 2\u001b[0m gray \u001b[38;5;241m=\u001b[39m \u001b[43mcv2\u001b[49m\u001b[38;5;241;43m.\u001b[39;49m\u001b[43mcvtColor\u001b[49m\u001b[43m(\u001b[49m\u001b[38;5;124;43m'\u001b[39;49m\u001b[38;5;124;43mC:/Users/blessing/Desktop/binary_mdivi.png\u001b[39;49m\u001b[38;5;124;43m'\u001b[39;49m\u001b[43m,\u001b[49m\u001b[43m \u001b[49m\u001b[43mcv2\u001b[49m\u001b[38;5;241;43m.\u001b[39;49m\u001b[43mCOLOR_BGR2GRAY\u001b[49m\u001b[43m)\u001b[49m\n\u001b[0;32m      3\u001b[0m skeleton \u001b[38;5;241m=\u001b[39m imutils\u001b[38;5;241m.\u001b[39mskeletonize(gray, size\u001b[38;5;241m=\u001b[39m(\u001b[38;5;241m3\u001b[39m, \u001b[38;5;241m3\u001b[39m))\n\u001b[0;32m      4\u001b[0m cv2\u001b[38;5;241m.\u001b[39mimshow(\u001b[38;5;124m\"\u001b[39m\u001b[38;5;124mSkeleton\u001b[39m\u001b[38;5;124m\"\u001b[39m, skeleton)\n",
      "\u001b[1;31merror\u001b[0m: OpenCV(4.5.5) :-1: error: (-5:Bad argument) in function 'cvtColor'\n> Overload resolution failed:\n>  - src is not a numpy array, neither a scalar\n>  - Expected Ptr<cv::UMat> for argument 'src'\n"
     ]
    }
   ],
   "source": [
    "# skeletonize the image\n",
    "gray = cv2.cvtColor('C:/Users/blessing/Desktop/binary_mdivi.png', cv2.COLOR_BGR2GRAY)\n",
    "skeleton = imutils.skeletonize(gray, size=(3, 3))\n",
    "cv2.imshow(\"Skeleton\", skeleton)"
   ]
  },
  {
   "cell_type": "code",
   "execution_count": 8,
   "id": "4851afb2-7093-47f7-823b-0afa957b3127",
   "metadata": {},
   "outputs": [
    {
     "ename": "NameError",
     "evalue": "name 'cactus' is not defined",
     "output_type": "error",
     "traceback": [
      "\u001b[1;31m---------------------------------------------------------------------------\u001b[0m",
      "\u001b[1;31mNameError\u001b[0m                                 Traceback (most recent call last)",
      "Input \u001b[1;32mIn [8]\u001b[0m, in \u001b[0;36m<cell line: 3>\u001b[1;34m()\u001b[0m\n\u001b[0;32m      1\u001b[0m \u001b[38;5;66;03m# INCORRECT: show the image without converting color spaces\u001b[39;00m\n\u001b[0;32m      2\u001b[0m plt\u001b[38;5;241m.\u001b[39mfigure(\u001b[38;5;124m\"\u001b[39m\u001b[38;5;124mIncorrect\u001b[39m\u001b[38;5;124m\"\u001b[39m)\n\u001b[1;32m----> 3\u001b[0m plt\u001b[38;5;241m.\u001b[39mimshow(\u001b[43mcactus\u001b[49m)\n\u001b[0;32m      4\u001b[0m \u001b[38;5;66;03m# CORRECT: convert color spaces before using plt.imshow\u001b[39;00m\n\u001b[0;32m      5\u001b[0m plt\u001b[38;5;241m.\u001b[39mfigure(\u001b[38;5;124m\"\u001b[39m\u001b[38;5;124mCorrect\u001b[39m\u001b[38;5;124m\"\u001b[39m)\n",
      "\u001b[1;31mNameError\u001b[0m: name 'cactus' is not defined"
     ]
    },
    {
     "data": {
      "text/plain": [
       "<Figure size 432x288 with 0 Axes>"
      ]
     },
     "metadata": {},
     "output_type": "display_data"
    }
   ],
   "source": [
    "# INCORRECT: show the image without converting color spaces\n",
    "plt.figure(\"Incorrect\")\n",
    "plt.imshow(cactus)\n",
    "# CORRECT: convert color spaces before using plt.imshow\n",
    "plt.figure(\"Correct\")\n",
    "plt.imshow(imutils.opencv2matplotlib(cactus))\n",
    "plt.show()"
   ]
  },
  {
   "cell_type": "code",
   "execution_count": null,
   "id": "eae8339b-3556-4c2e-ac5f-605fc909d679",
   "metadata": {},
   "outputs": [],
   "source": [
    "img = cv2.imread('C:/Users/blessing/Desktop/binary_mdivi.png') # change picture address\n",
    "translated = imutils.translate(img, 100,50) # translation function\n",
    "\n",
    "plt.figure()\n",
    "plt.subplot(121)\n",
    "plt.imshow (img [:,:,:: - 1]) # img [:,:,:: - 1] conversion is to switch back to RGB format, so that color images can be displayed normally\n",
    "plt.title ('original picture ')\n",
    "plt.subplot(122)\n",
    "plt.imshow(translated[:,:,::-1])\n",
    "plt.itle ('translation result')\n",
    "plt.show()"
   ]
  },
  {
   "cell_type": "code",
   "execution_count": null,
   "id": "d4e0db94-5d0e-453b-a59e-f150d29bd389",
   "metadata": {},
   "outputs": [],
   "source": [
    "#1 image reading\n",
    "image2 = cv2.imread('C:/Users/blessing/Desktop/binary_mdivi.png')\n",
    "#2 grayscale\n",
    "gray = cv2.cvtColor(image2, cv2.COLOR_BGR2GRAY)\n",
    "#3 skeleton extraction\n",
    "skeleton = imutils.skeletonize(gray, size=(7, 7))\n",
    "\n",
    "#4 image display\n",
    "plt.figure()\n",
    "plt.subplot(121),plt.imshow(image2[:,:,::-1]),plt.title ('original picture ')\n",
    "\n",
    "plt.subplot(122),plt.imshow(skeleton,cmap=\"gray\"),plt.title ('skeleton extraction result ') # displays the grayscale image to declare gray\n",
    "\n",
    "plt.show()"
   ]
  },
  {
   "cell_type": "code",
   "execution_count": 2,
   "id": "b34c5641-c458-42de-9c78-717d9134848b",
   "metadata": {},
   "outputs": [],
   "source": [
    "import cv2\n",
    "import numpy as np\n",
    " \n",
    "img = cv2.imread('C:/Users/blessing/Desktop/binary_mdivi.png',0)\n",
    "size = np.size(img)\n",
    "skel = np.zeros(img.shape,np.uint8)\n",
    " \n",
    "ret,img = cv2.threshold(img,127,255,0)\n",
    "element = cv2.getStructuringElement(cv2.MORPH_CROSS,(3,3))\n",
    "done = False\n",
    " \n",
    "while( not done):\n",
    "    eroded = cv2.erode(img,element)\n",
    "    temp = cv2.dilate(eroded,element)\n",
    "    temp = cv2.subtract(img,temp)\n",
    "    skel = cv2.bitwise_or(skel,temp)\n",
    "    img = eroded.copy()\n",
    " \n",
    "    zeros = size - cv2.countNonZero(img)\n",
    "    if zeros==size:\n",
    "        done = True\n",
    " \n",
    "cv2.imshow(\"skel\",skel)\n",
    "cv2.waitKey(0)\n",
    "cv2.destroyAllWindows()"
   ]
  },
  {
   "cell_type": "code",
   "execution_count": 8,
   "id": "f56158bf-4b15-46fe-a1a7-d72005e7ea2e",
   "metadata": {},
   "outputs": [],
   "source": [
    "# Read the image as a grayscale image\n",
    "img = cv2.imread('C:/Users/blessing/Desktop/binary_mdivi.png', 0)\n",
    "\n",
    "# Threshold the image\n",
    "ret,img = cv2.threshold(img, 127, 255, 0)\n",
    "\n",
    "# Step 1: Create an empty skeleton\n",
    "size = np.size(img)\n",
    "skel = np.zeros(img.shape, np.uint8)\n",
    "\n",
    "# Get a Cross Shaped Kernel\n",
    "element = cv2.getStructuringElement(cv2.MORPH_CROSS, (3,3))\n",
    "\n",
    "# Repeat steps 2-4\n",
    "while True:\n",
    "    #Step 2: Open the image\n",
    "    open = cv2.morphologyEx(img, cv2.MORPH_OPEN, element)\n",
    "    #Step 3: Substract open from the original image\n",
    "    temp = cv2.subtract(img, open)\n",
    "    #Step 4: Erode the original image and refine the skeleton\n",
    "    eroded = cv2.erode(img, element)\n",
    "    skel = cv2.bitwise_or(skel,temp)\n",
    "    img = eroded.copy()\n",
    "    # Step 5: If there are no white pixels left ie.. the image has been completely eroded, quit the loop\n",
    "    if cv2.countNonZero(img)==0:\n",
    "        break\n",
    "\n",
    "# Displaying the final skeleton\n",
    "cv2.imshow(\"Skeleton\",skel)\n",
    "cv2.waitKey(0)\n",
    "cv2.destroyAllWindows()"
   ]
  },
  {
   "cell_type": "code",
   "execution_count": null,
   "id": "54f01c5c-fe87-4600-a58b-0471c328e05f",
   "metadata": {},
   "outputs": [],
   "source": [
    "import pandas as pd\n",
    "plt.imshow(fil.skeleton, cmap='gray')\n",
    "\n",
    "# this also works for multiple filaments/skeletons in the image: here only one\n",
    "for idx, filament in enumerate(fil.filaments): \n",
    "\n",
    "    data = filament.branch_properties.copy()\n",
    "    data_df = pd.DataFrame(data)\n",
    "    data_df['offset_pixels'] = data_df['pixels'].apply(lambda x: x+filament.pixel_extents[0])\n",
    "\n",
    "    print(f\"Filament: {idx}\")\n",
    "    display(data_df.head())\n",
    "\n",
    "    longest_branch_idx = data_df.length.idxmax()\n",
    "    longest_branch_pix = data_df.offset_pixels.iloc[longest_branch_idx]\n",
    "\n",
    "    y,x = longest_branch_pix[:,0],longest_branch_pix[:,1]\n",
    "\n",
    "    plt.scatter(x,y , color='r')\n",
    "\n",
    "plt.axis('off')\n",
    "plt.show()"
   ]
  }
 ],
 "metadata": {
  "kernelspec": {
   "display_name": "Python 3 (ipykernel)",
   "language": "python",
   "name": "python3"
  },
  "language_info": {
   "codemirror_mode": {
    "name": "ipython",
    "version": 3
   },
   "file_extension": ".py",
   "mimetype": "text/x-python",
   "name": "python",
   "nbconvert_exporter": "python",
   "pygments_lexer": "ipython3",
   "version": "3.9.12"
  }
 },
 "nbformat": 4,
 "nbformat_minor": 5
}
