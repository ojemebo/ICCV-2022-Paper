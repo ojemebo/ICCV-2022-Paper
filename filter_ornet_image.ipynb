{
 "cells": [
  {
   "cell_type": "code",
   "execution_count": 1,
   "id": "2dfba5ce-ab2b-4873-8267-a5008284acac",
   "metadata": {},
   "outputs": [],
   "source": [
    "# import relevant packages\n",
    "import numpy as np\n",
    "import pandas as pd\n",
    "import glob\n",
    "import matplotlib.pyplot as plt\n",
    "import cv2\n",
    "import napari\n",
    "import imageio\n",
    "import skimage\n",
    "from IPython.display import Image\n",
    "from io import BytesIO"
   ]
  },
  {
   "cell_type": "code",
   "execution_count": null,
   "id": "6d341dc8-19f5-4844-9e3e-d86343fb15cc",
   "metadata": {},
   "outputs": [],
   "source": [
    "# read image as grey scale\n",
    "grey_img = cv2.imread('C:/Users/blessing/Desktop/original_mdivi.png', cv2.IMREAD_GRAYSCALE)\n",
    "\n",
    "# save image\n",
    "status = cv2.imwrite('C:/Users/blessing/Desktop/output_grey.jpg',grey_img)\n",
    "\n",
    "print(\"Image written to file-system : \",status)"
   ]
  },
  {
   "cell_type": "code",
   "execution_count": null,
   "id": "9a70650a-14e7-4ab2-b532-349153060a58",
   "metadata": {},
   "outputs": [],
   "source": [
    "# Load the image\n",
    "image = cv2.imread('C:/Users/blessing/Desktop/output.jpg')\n",
    "# Blur the image\n",
    "gauss = cv2.GaussianBlur(image, (7,7), 0)\n",
    "# Apply Unsharp masking\n",
    "unsharp_image = cv2.addWeighted(image, 2, gauss, -1, 0)\n",
    "plt.show"
   ]
  },
  {
   "cell_type": "code",
   "execution_count": null,
   "id": "6a9087f5-4341-47e3-bf81-673406009764",
   "metadata": {},
   "outputs": [],
   "source": [
    "image = cv2.imread('C:/Users/blessing/Desktop/output.jpg')\n",
    "kernel = np.ones((3,3), np.float32)/9\n",
    "gaussian_blur = cv2.GaussianBlur(image, (3,3), 0)\n",
    "filt_2D = cv2.filter2D(image, -1, kernel)\n",
    "median_blur = cv2.medianBlur(image, 3)\n",
    "bilateral_blur = cv2.bilateralFilter(image, 9, 75, 75)\n",
    "blur = cv2.blur(image, (3,3))\n",
    "cv2.imshow(\"original\", image)\n",
    "cv2.imshow(\"Guassian Blur\", gaussian_blur)\n",
    "cv2.imshow(\"2D custom filter\", filt_2D)\n",
    "cv2.imshow(\"Median filter\", median_blur)\n",
    "cv2.imshow(\"Bilateral\", bilateral_blur)\n",
    "cv2.imshow(\"Blur\", blur)\n",
    "cv2.waitKey(0)\n",
    "cv2.destroyAllWindows()"
   ]
  },
  {
   "cell_type": "code",
   "execution_count": null,
   "id": "9415d964-e9f2-4dc4-b3b6-41d9e922991e",
   "metadata": {},
   "outputs": [],
   "source": [
    "image = cv2.imread('C:/Users/blessing/Desktop/gray.png')\n",
    "kernel = np.ones((3,3), np.float32)/9\n",
    "gaussian_blur = cv2.GaussianBlur(image, (5,5), 5)\n",
    "filt_2D = cv2.filter2D(image, -1, kernel)\n",
    "median_blur = cv2.medianBlur(image, 3)\n",
    "bilateral_blur = cv2.bilateralFilter(image, 5, 10, 10)\n",
    "blur = cv2.blur(image, (3,3))\n",
    "\n",
    "\n",
    "cv2.imshow(\"original\", image)\n",
    "cv2.imshow(\"Guassian Blur\", gaussian_blur)\n",
    "cv2.imshow(\"2D custom filter\", filt_2D)\n",
    "cv2.imshow(\"Median filter\", median_blur)\n",
    "cv2.imshow(\"Bilateral\", bilateral_blur)\n",
    "cv2.imshow(\"Blur\", blur)\n",
    "cv2.waitKey(0)\n",
    "cv2.destroyAllWindows()\n"
   ]
  },
  {
   "cell_type": "code",
   "execution_count": null,
   "id": "f9810f1f-209a-44f7-909a-8eaa2fcda2e5",
   "metadata": {},
   "outputs": [],
   "source": [
    "img_path = 'C:/Users/blessing/Desktop/gray.png'\n",
    " \n",
    "img = cv2.imread(img_path)\n",
    "blur_img = cv2.GaussianBlur(img, (3,3), sigmaX=34, sigmaY=36)\n",
    " \n",
    "cv2.imshow(\"Blur Image\", blur_img)\n",
    "cv2.imshow(\"Model Image\", img)\n",
    " \n",
    "cv2.waitKey(0)\n",
    "cv2.destroyAllWindows()"
   ]
  },
  {
   "cell_type": "code",
   "execution_count": null,
   "id": "04067702-3625-4e0e-b09d-22d102c09999",
   "metadata": {},
   "outputs": [],
   "source": [
    "import cv2\n",
    "img = cv2.imread('C:/Users/blessing/Desktop/gray.png')\n",
    "\n",
    "# Creates a 1-D Gaussian kernel\n",
    "a = cv2.getGaussianKernel(5,5)\n",
    "\n",
    "# Apply the above Gaussian kernel. Here, I\n",
    "# have used the same kernel for both X and Y\n",
    "b = cv2.sepFilter2D(img,-1,a,a)\n",
    "\n",
    "# Display the Image\n",
    "cv2.imshow('a',b)\n",
    "cv2.waitKey(0)"
   ]
  }
 ],
 "metadata": {
  "kernelspec": {
   "display_name": "Python 3 (ipykernel)",
   "language": "python",
   "name": "python3"
  },
  "language_info": {
   "codemirror_mode": {
    "name": "ipython",
    "version": 3
   },
   "file_extension": ".py",
   "mimetype": "text/x-python",
   "name": "python",
   "nbconvert_exporter": "python",
   "pygments_lexer": "ipython3",
   "version": "3.9.12"
  }
 },
 "nbformat": 4,
 "nbformat_minor": 5
}
